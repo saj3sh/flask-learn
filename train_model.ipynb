{
 "cells": [
  {
   "cell_type": "code",
   "execution_count": 30,
   "metadata": {},
   "outputs": [],
   "source": [
    "import numpy as np\n",
    "import scipy.io.wavfile as wav\n",
    "import matplotlib.pyplot as plt\n",
    "from features_extract import mfcc_delta\n",
    "from sklearn.mixture import GaussianMixture\n",
    "from scipy.spatial.distance import euclidean"
   ]
  },
  {
   "cell_type": "code",
   "execution_count": 13,
   "metadata": {},
   "outputs": [],
   "source": [
    "\n",
    "#     (rate2,audio2)=wav.read('test_2.wav')\n",
    "#     vector2=mfcc_delta(rate2,audio2)\n",
    "\n",
    "#     (rate3, audio3)=wav.read('test_3.wav')\n",
    "#     vector3=mfcc_delta(rate3,audio3)\n",
    "\n",
    "#     (rate4, audio4)=wav.read('Atul_20.wav')\n",
    "#     vector4=mfcc_delta(rate4,audio4)\n",
    "\n",
    "#     (rate5, audio5)=wav.read('test_false.wav')\n",
    "#     vector5=mfcc_delta(rate5,audio5)\n",
    "\n",
    "#     (rate6, audio6)=wav.read('Atul_1.wav')\n",
    "#     vector6=mfcc_delta(rate6,audio6)\n",
    "\n",
    "#     (rate7, audio7)=wav.read('Aditya_16.wav')\n",
    "#     vector7=mfcc_delta(rate7,audio7)\n",
    "\n",
    "#     (rate8, audio8)=wav.read('Aditya_1.wav')\n",
    "#     vector8=mfcc_delta(rate8,audio8)\n",
    "\n"
   ]
  },
  {
   "cell_type": "code",
   "execution_count": 29,
   "metadata": {
    "scrolled": false
   },
   "outputs": [
    {
     "ename": "ValueError",
     "evalue": "all the input array dimensions except for the concatenation axis must match exactly",
     "output_type": "error",
     "traceback": [
      "\u001b[0;31m---------------------------------------------------------------------------\u001b[0m",
      "\u001b[0;31mValueError\u001b[0m                                Traceback (most recent call last)",
      "\u001b[0;32m<ipython-input-29-8177ae77c3fa>\u001b[0m in \u001b[0;36m<module>\u001b[0;34m\u001b[0m\n\u001b[1;32m      9\u001b[0m \u001b[0;34m\u001b[0m\u001b[0m\n\u001b[1;32m     10\u001b[0m \u001b[0;34m\u001b[0m\u001b[0m\n\u001b[0;32m---> 11\u001b[0;31m \u001b[0mdo_gauss\u001b[0m\u001b[0;34m(\u001b[0m\u001b[0;34m'test_1.wav'\u001b[0m\u001b[0;34m)\u001b[0m\u001b[0;34m\u001b[0m\u001b[0;34m\u001b[0m\u001b[0m\n\u001b[0m\u001b[1;32m     12\u001b[0m \u001b[0;31m# gmm = GaussianMixture(n_components = 16, covariance_type='diag',n_init = 3, max_iter=100,random_state=113)\u001b[0m\u001b[0;34m\u001b[0m\u001b[0;34m\u001b[0m\u001b[0;34m\u001b[0m\u001b[0m\n\u001b[1;32m     13\u001b[0m \u001b[0;31m# gmm.fit(vector1)\u001b[0m\u001b[0;34m\u001b[0m\u001b[0;34m\u001b[0m\u001b[0;34m\u001b[0m\u001b[0m\n",
      "\u001b[0;32m<ipython-input-29-8177ae77c3fa>\u001b[0m in \u001b[0;36mdo_gauss\u001b[0;34m(sample)\u001b[0m\n\u001b[1;32m      5\u001b[0m     \u001b[0mfeat_matrix\u001b[0m\u001b[0;34m=\u001b[0m\u001b[0mnp\u001b[0m\u001b[0;34m.\u001b[0m\u001b[0mzeros\u001b[0m\u001b[0;34m(\u001b[0m\u001b[0;34m(\u001b[0m\u001b[0;36m1\u001b[0m\u001b[0;34m,\u001b[0m\u001b[0;36m8\u001b[0m\u001b[0;34m)\u001b[0m\u001b[0;34m)\u001b[0m\u001b[0;34m\u001b[0m\u001b[0;34m\u001b[0m\u001b[0m\n\u001b[1;32m      6\u001b[0m     \u001b[0mtrial\u001b[0m\u001b[0;34m=\u001b[0m\u001b[0mmfcc_delta\u001b[0m\u001b[0;34m(\u001b[0m\u001b[0;34m'test_1.wav'\u001b[0m\u001b[0;34m)\u001b[0m\u001b[0;34m\u001b[0m\u001b[0;34m\u001b[0m\u001b[0m\n\u001b[0;32m----> 7\u001b[0;31m     \u001b[0mfeat_matrix\u001b[0m\u001b[0;34m=\u001b[0m\u001b[0mnp\u001b[0m\u001b[0;34m.\u001b[0m\u001b[0mvstack\u001b[0m\u001b[0;34m(\u001b[0m\u001b[0;34m(\u001b[0m\u001b[0mfeat_matrix\u001b[0m\u001b[0;34m,\u001b[0m\u001b[0mtrial\u001b[0m\u001b[0;34m)\u001b[0m\u001b[0;34m)\u001b[0m\u001b[0;34m\u001b[0m\u001b[0;34m\u001b[0m\u001b[0m\n\u001b[0m\u001b[1;32m      8\u001b[0m     \u001b[0mprint\u001b[0m \u001b[0;34m(\u001b[0m\u001b[0mfeat_matrix\u001b[0m\u001b[0;34m)\u001b[0m\u001b[0;34m\u001b[0m\u001b[0;34m\u001b[0m\u001b[0m\n\u001b[1;32m      9\u001b[0m \u001b[0;34m\u001b[0m\u001b[0m\n",
      "\u001b[0;32m/usr/local/lib/python3.6/dist-packages/numpy/core/shape_base.py\u001b[0m in \u001b[0;36mvstack\u001b[0;34m(tup)\u001b[0m\n\u001b[1;32m    232\u001b[0m \u001b[0;34m\u001b[0m\u001b[0m\n\u001b[1;32m    233\u001b[0m     \"\"\"\n\u001b[0;32m--> 234\u001b[0;31m     \u001b[0;32mreturn\u001b[0m \u001b[0m_nx\u001b[0m\u001b[0;34m.\u001b[0m\u001b[0mconcatenate\u001b[0m\u001b[0;34m(\u001b[0m\u001b[0;34m[\u001b[0m\u001b[0matleast_2d\u001b[0m\u001b[0;34m(\u001b[0m\u001b[0m_m\u001b[0m\u001b[0;34m)\u001b[0m \u001b[0;32mfor\u001b[0m \u001b[0m_m\u001b[0m \u001b[0;32min\u001b[0m \u001b[0mtup\u001b[0m\u001b[0;34m]\u001b[0m\u001b[0;34m,\u001b[0m \u001b[0;36m0\u001b[0m\u001b[0;34m)\u001b[0m\u001b[0;34m\u001b[0m\u001b[0;34m\u001b[0m\u001b[0m\n\u001b[0m\u001b[1;32m    235\u001b[0m \u001b[0;34m\u001b[0m\u001b[0m\n\u001b[1;32m    236\u001b[0m \u001b[0;32mdef\u001b[0m \u001b[0mhstack\u001b[0m\u001b[0;34m(\u001b[0m\u001b[0mtup\u001b[0m\u001b[0;34m)\u001b[0m\u001b[0;34m:\u001b[0m\u001b[0;34m\u001b[0m\u001b[0;34m\u001b[0m\u001b[0m\n",
      "\u001b[0;31mValueError\u001b[0m: all the input array dimensions except for the concatenation axis must match exactly"
     ]
    }
   ],
   "source": [
    "def do_gauss(sample):\n",
    "    sample_feat=mfcc_delta(sample)\n",
    "    gmm = GaussianMixture(n_components = 16, covariance_type='diag',n_init = 3, max_iter=100,random_state=113)\n",
    "    gmm.fit(sample_feat)\n",
    "    feat_matrix=np.zeros((1,8))\n",
    "    trial=mfcc_delta('test_1.wav')\n",
    "    feat_matrix=np.vstack((feat_matrix,trial))\n",
    "    print (feat_matrix)\n",
    "\n",
    "    \n",
    "do_gauss('test_1.wav')\n",
    "# gmm = GaussianMixture(n_components = 16, covariance_type='diag',n_init = 3, max_iter=100,random_state=113)\n",
    "# gmm.fit(vector1)\n",
    "# # scores  =np.array(gmm.score(vector))\n",
    "# scores1 = np.array(gmm.score(vector2))\n",
    "# scores2 = np.array(gmm.score(vector3))\n",
    "# scores3 = np.array(gmm.score(vector4))\n",
    "# scores4 = np.array(gmm.score(vector5))\n",
    "# scores5 = np.array(gmm.score(vector6))\n",
    "# scores6 = np.array(gmm.score(vector7))\n",
    "# scores7 = np.array(gmm.score(vector8))\n",
    "# # log_likelihood = scores.sum()\n",
    "# log_likelihood1 = scores1.sum()\n",
    "# log_likelihood2 = scores2.sum()\n",
    "# log_likelihood3 = scores3.sum()\n",
    "# log_likelihood4 = scores4.sum()\n",
    "# log_likelihood5 = scores5.sum()\n",
    "# log_likelihood6 = scores6.sum()\n",
    "# log_likelihood7 = scores7.sum()\n",
    "# print((log_likelihood1,log_likelihood2,log_likelihood3,log_likelihood4,log_likelihood5,log_likelihood6,log_likelihood7))\n",
    "# print (gmm)\n",
    "# print(vector[:2])\n",
    "# print(vector1[:2])\n",
    "# print(euclidean(vector[0],vector1[0]))\n",
    "# print(euclidean(vector[1],vector1[1]))\n",
    "# print(euclidean(vector[2],vector1[2]))\n",
    "# print(euclidean_distances(vector[:100],vector1[:100]))\n",
    "# a=euclidean_distances(vector[:100],vector1[:100])\n",
    "# a1=euclidean_distances(vector[:100],vector2[:100])\n",
    "# b=np.diagonal(a).copy()\n",
    "# b1=np.diagonal(a1).copy()\n",
    "# euclidean(b,b1)\n",
    "\n",
    "# def dist(mfcc_chk,vector=vector):\n",
    "#     return euclidean(np.diagonal(mfcc_chk[:70]).copy(),np.diagonal(vector[:70]).copy())\n",
    "\n"
   ]
  },
  {
   "cell_type": "code",
   "execution_count": 23,
   "metadata": {},
   "outputs": [
    {
     "data": {
      "text/plain": [
       "0.5363088530357573"
      ]
     },
     "execution_count": 23,
     "metadata": {},
     "output_type": "execute_result"
    }
   ],
   "source": [
    "1.318134548943763*0.4068695820661919"
   ]
  },
  {
   "cell_type": "code",
   "execution_count": 24,
   "metadata": {},
   "outputs": [
    {
     "data": {
      "text/plain": [
       "-1.4354794926318748"
      ]
     },
     "execution_count": 24,
     "metadata": {},
     "output_type": "execute_result"
    }
   ],
   "source": [
    "-3.5281071771011447 *0.4068695820661919"
   ]
  },
  {
   "cell_type": "code",
   "execution_count": 5,
   "metadata": {},
   "outputs": [
    {
     "data": {
      "text/plain": [
       "-2.939377438443481"
      ]
     },
     "execution_count": 5,
     "metadata": {},
     "output_type": "execute_result"
    }
   ],
   "source": [
    "-4.098714212818269*0.7171462282612697"
   ]
  },
  {
   "cell_type": "code",
   "execution_count": 20,
   "metadata": {},
   "outputs": [
    {
     "name": "stdout",
     "output_type": "stream",
     "text": [
      "GaussianMixture(covariance_type='diag', init_params='kmeans', max_iter=100,\n",
      "        means_init=None, n_components=16, n_init=3, precisions_init=None,\n",
      "        random_state=None, reg_covar=1e-06, tol=0.001, verbose=0,\n",
      "        verbose_interval=10, warm_start=False, weights_init=None)\n"
     ]
    }
   ],
   "source": [
    "print(gmm)"
   ]
  },
  {
   "cell_type": "code",
   "execution_count": null,
   "metadata": {},
   "outputs": [],
   "source": []
  }
 ],
 "metadata": {
  "kernelspec": {
   "display_name": "Python 3",
   "language": "python",
   "name": "python3"
  },
  "language_info": {
   "codemirror_mode": {
    "name": "ipython",
    "version": 3
   },
   "file_extension": ".py",
   "mimetype": "text/x-python",
   "name": "python",
   "nbconvert_exporter": "python",
   "pygments_lexer": "ipython3",
   "version": "3.6.8"
  }
 },
 "nbformat": 4,
 "nbformat_minor": 2
}
