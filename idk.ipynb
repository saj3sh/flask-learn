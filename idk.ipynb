{
 "cells": [
  {
   "cell_type": "code",
   "execution_count": 41,
   "metadata": {},
   "outputs": [],
   "source": [
    "from features_extract import mfcc_delta\n",
    "from python_speech_features import delta\n",
    "import scipy.io.wavfile as wav\n",
    "import numpy as np\n",
    "from sklearn.mixture import GaussianMixture\n",
    "from scipy.spatial.distance import euclidean\n",
    "from scipy.spatial.distance import cosine\n",
    "from fastdtw import fastdtw\n",
    "import matplotlib.pyplot as plt\n",
    "\n"
   ]
  },
  {
   "cell_type": "code",
   "execution_count": 42,
   "metadata": {
    "scrolled": true
   },
   "outputs": [],
   "source": [
    "(rate1, audio1)=wav.read('test_1.wav')\n",
    "vector1=mfcc_delta(rate1,audio1)\n",
    "\n",
    "(rate2,audio2)=wav.read('test_2.wav')\n",
    "vector2=mfcc_delta(rate2,audio2)\n",
    "\n",
    "(rate3, audio3)=wav.read('test_3.wav')\n",
    "vector3=mfcc_delta(rate3,audio3)\n",
    "\n",
    "(rate4, audio4)=wav.read('Atul_20.wav')\n",
    "vector4=mfcc_delta(rate4,audio4)\n",
    " \n",
    "(rate5, audio5)=wav.read('test_false.wav')\n",
    "vector5=mfcc_delta(rate5,audio5)\n",
    "\n",
    "(rate6, audio6)=wav.read('test_1.wav')\n",
    "vector6=mfcc_delta(rate6,audio6)\n",
    "\n",
    "(rate7, audio7)=wav.read('Aditya_16.wav')\n",
    "vector7=mfcc_delta(rate7,audio7)\n",
    "\n",
    "(rate8, audio8)=wav.read('Aditya_1.wav')\n",
    "vector8=mfcc_delta(rate8,audio8)\n",
    "# print(vector1.shape)\n",
    "# print(vector2.shape)\n",
    "# print(vector3.shape)\n",
    "# print(vector4.shape)\n",
    "# print(vector5.shape)\n",
    "# print(vector6.shape)\n",
    "# print(vector7.shape)\n",
    "# print(vector8.shape)\n",
    "\n",
    "\n",
    "\n"
   ]
  },
  {
   "cell_type": "code",
   "execution_count": 24,
   "metadata": {},
   "outputs": [],
   "source": [
    "#calculate distance between mean of melcoefficients\n",
    "# def euclidean_calc(a,b=vector1):\n",
    "#     a_mean=np.reshape(mean_calc(a),-1)\n",
    "#     b_mean=np.reshape(mean_calc(b),-1)\n",
    "#     return round(euclidean(a_mean,b_mean),5)"
   ]
  },
  {
   "cell_type": "code",
   "execution_count": 25,
   "metadata": {},
   "outputs": [],
   "source": [
    "def euclidean_calc(a,b=vector1):\n",
    "    b=np.reshape(b,-1)\n",
    "    b=np.squeeze(b)\n",
    "#     b=(b - np.min(b))/np.ptp(b)\n",
    "    a=np.reshape(a,-1)\n",
    "    a=np.squeeze(a)\n",
    "#     a=(a - np.min(a))/np.ptp(a)\n",
    "    row1=a.shape\n",
    "    row2=b.shape\n",
    "    if row1<row2:\n",
    "        padded=(np.pad(a, (0,row2[0]-row1[0]), 'constant', constant_values=(0)))\n",
    "        return round(euclidean(padded,b),5)/100\n",
    "        \n",
    "    else:\n",
    "        padded=(np.pad(b, (0,row1[0]-row2[0]), 'constant', constant_values=(0)))\n",
    "        return round(euclidean(a,padded),5)/100\n",
    "    "
   ]
  },
  {
   "cell_type": "code",
   "execution_count": 44,
   "metadata": {},
   "outputs": [],
   "source": [
    "def fastdtw_calc(a,b=vector1[:9,:9]):\n",
    "    b=np.reshape(b,-1)\n",
    "    b=np.squeeze(b)\n",
    "#     b=(b - np.min(b))/np.ptp(b)\n",
    "    a=np.reshape(a,-1)\n",
    "    a=np.squeeze(a)\n",
    "#     a=(a - np.min(a))/np.ptp(a)\n",
    "    row1=a.shape\n",
    "    row2=b.shape\n",
    "    if row1<row2:\n",
    "        padded=(np.pad(a, (0,row2[0]-row1[0]), 'constant', constant_values=(0)))\n",
    "        distance, path = fastdtw(padded, b, dist=euclidean)\n",
    "        return distance\n",
    "        \n",
    "    else:\n",
    "        padded=(np.pad(b, (0,row1[0]-row2[0]), 'constant', constant_values=(0)))\n",
    "        distance, path = fastdtw(a, padded, dist=euclidean)\n",
    "        return distance"
   ]
  },
  {
   "cell_type": "code",
   "execution_count": 43,
   "metadata": {},
   "outputs": [],
   "source": [
    "def cosine_calc(a,b=vector1):\n",
    "    b=np.reshape(b,-1)\n",
    "    b=np.squeeze(b)\n",
    "#     b=(b - np.min(b))/np.ptp(b)\n",
    "    a=np.reshape(a,-1)\n",
    "    a=np.squeeze(a)\n",
    "#     a=(a - np.min(a))/np.ptp(a)\n",
    "    row1=a.shape\n",
    "    row2=b.shape\n",
    "    if row1<row2:\n",
    "        padded=(np.pad(a, (0,row2[0]-row1[0]), 'constant', constant_values=(0)))\n",
    "        return round((1-cosine(padded,b)),5)\n",
    "        \n",
    "    else:\n",
    "        padded=(np.pad(b, (0,row1[0]-row2[0]), 'constant', constant_values=(0)))\n",
    "        return round((1-cosine(a,padded)),5)\n",
    "  "
   ]
  },
  {
   "cell_type": "code",
   "execution_count": 29,
   "metadata": {
    "scrolled": false
   },
   "outputs": [
    {
     "name": "stdout",
     "output_type": "stream",
     "text": [
      "(0.0, 8.23920003191128, 1.4479887921588692, -4.442423695440209, 3.1015844152884386, 0.0, -7.454542832236199, 1.4159956596920562)\n"
     ]
    }
   ],
   "source": [
    "result=np.zeros((1,8),dtype=float)\n",
    "result=(euclidean_calc(vector1)*cosine_calc(vector1)*fastdtw_calc(vector1[:9,:9]),\n",
    "euclidean_calc(vector2)*cosine_calc(vector2)*fastdtw_calc(vector2[:9,:9]),\n",
    "euclidean_calc(vector3)*cosine_calc(vector3)*fastdtw_calc(vector3[:9,:9]),\n",
    "euclidean_calc(vector4)*cosine_calc(vector4)*fastdtw_calc(vector4[:9,:9]),\n",
    "euclidean_calc(vector5)*cosine_calc(vector5)*fastdtw_calc(vector5[:9,:9]),\n",
    "euclidean_calc(vector6)*cosine_calc(vector6)*fastdtw_calc(vector6[:9,:9]),\n",
    "euclidean_calc(vector7)*cosine_calc(vector7)*fastdtw_calc(vector7[:9,:9]),\n",
    "euclidean_calc(vector8)*cosine_calc(vector8)*fastdtw_calc(vector8[:9,:9])\n",
    "     )\n",
    "# result=2*(result - np.min(result))/np.ptp(result)-1\n",
    "print(result)"
   ]
  },
  {
   "cell_type": "code",
   "execution_count": 45,
   "metadata": {},
   "outputs": [
    {
     "name": "stdout",
     "output_type": "stream",
     "text": [
      "[0.0, 0.8816180076258536, 0.9709086123813248, 1.0217551284936925, 0.9565828832810664, 0.0, 1.0750501227876597, 0.989203681471137]\n",
      "vector1\n",
      "vector2\n",
      "vector6\n"
     ]
    }
   ],
   "source": [
    "def sapsan(vector3,vector1=vector1):\n",
    "    SAP =np.mean([cosine(u, v) for (u, v) in zip(vector1, vector1)])\n",
    "    SAN = np.mean([cosine(u, v) for (u, v) in zip(vector1, vector3)])\n",
    "    return SAN-SAP\n",
    "\n",
    "out=np.zeros((1,8),dtype=float)\n",
    "out=[sapsan(vector1),sapsan(vector2),sapsan(vector3),sapsan(vector4),sapsan(vector5),sapsan(vector6),sapsan(vector7),sapsan(vector8)]\n",
    "# out=2*(out - np.min(out))/np.ptp(out)-1\n",
    "print (out)\n",
    "for i in range(0,8):\n",
    "    if (result[i]>6.0 and result[i]<9.0) or result[i]==0:\n",
    "        print ('vector{}'.format(i+1))\n",
    "    elif(out[i]<0.8):\n",
    "        if(result[i]>=5.0 and result[i]<=6.0) or (result[i]>=10.0 and result[i]<=9.0):\n",
    "            print ('vector{}'.format(i+1))\n"
   ]
  },
  {
   "cell_type": "code",
   "execution_count": 39,
   "metadata": {},
   "outputs": [
    {
     "name": "stdout",
     "output_type": "stream",
     "text": [
      "[[-1.97629728e-01 -1.46063696e+00  4.94927703e-01 ...  1.90226976e-02\n",
      "  -1.48342497e-02  3.04629566e-02]\n",
      " [ 1.00226616e+00 -6.17754495e-01 -4.32503705e-03 ...  1.51626151e-02\n",
      "  -4.72759979e-02  2.46857412e-02]\n",
      " [ 1.04643469e+00 -6.05670974e-01  1.57848772e-02 ...  2.31423136e-03\n",
      "  -6.06248387e-02  1.44957378e-03]\n",
      " ...\n",
      " [-8.23327751e-01  1.44104717e-01  7.39539806e-01 ... -1.57208651e-01\n",
      "  -1.67164658e-01  1.83760369e-02]\n",
      " [-9.37283980e-01 -4.61772042e-01 -1.03360058e-01 ... -1.03470979e-01\n",
      "  -6.21350335e-02  6.01238616e-02]\n",
      " [-7.10648553e-01 -5.65046739e-01 -1.02018419e-01 ... -2.12957221e-02\n",
      "   1.56556883e-02  2.08371250e-02]] [[ 1.00226616e+00 -6.17754495e-01 -4.32503705e-03 ...  1.51626151e-02\n",
      "  -4.72759979e-02  2.46857412e-02]\n",
      " [ 1.04643469e+00 -6.05670974e-01  1.57848772e-02 ...  2.31423136e-03\n",
      "  -6.06248387e-02  1.44957378e-03]\n",
      " [ 6.03558829e-01  1.13151716e+00  1.26959310e+00 ... -2.13723665e-02\n",
      "  -5.30666498e-02 -4.04607537e-02]\n",
      " ...\n",
      " [-9.37283980e-01 -4.61772042e-01 -1.03360058e-01 ... -1.03470979e-01\n",
      "  -6.21350335e-02  6.01238616e-02]\n",
      " [-7.10648553e-01 -5.65046739e-01 -1.02018419e-01 ... -2.12957221e-02\n",
      "   1.56556883e-02  2.08371250e-02]\n",
      " [-7.88149032e-01 -5.60722634e-01  3.66306124e-02 ... -1.12488226e-03\n",
      "   3.11343832e-02 -9.80648378e-03]]\n"
     ]
    }
   ],
   "source": [
    "print(vector1[:-1],vector1[1:])"
   ]
  }
 ],
 "metadata": {
  "kernelspec": {
   "display_name": "Python 3",
   "language": "python",
   "name": "python3"
  },
  "language_info": {
   "codemirror_mode": {
    "name": "ipython",
    "version": 3
   },
   "file_extension": ".py",
   "mimetype": "text/x-python",
   "name": "python",
   "nbconvert_exporter": "python",
   "pygments_lexer": "ipython3",
   "version": "3.6.8"
  }
 },
 "nbformat": 4,
 "nbformat_minor": 2
}
